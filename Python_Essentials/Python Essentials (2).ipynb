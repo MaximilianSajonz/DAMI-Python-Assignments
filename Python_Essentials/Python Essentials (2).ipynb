{
 "cells": [
  {
   "cell_type": "markdown",
   "id": "314744a8afdc18bb",
   "metadata": {
    "collapsed": false,
    "jupyter": {
     "outputs_hidden": false
    }
   },
   "source": [
    "# Python Assignment: Essentials"
   ]
  },
  {
   "cell_type": "markdown",
   "id": "aac7fabfecd048f1",
   "metadata": {
    "collapsed": false,
    "jupyter": {
     "outputs_hidden": false
    }
   },
   "source": [
    "## 1. Write a script that prints the square root of the integer 17. What class is the resulting value? Why?"
   ]
  },
  {
   "cell_type": "code",
   "execution_count": 5,
   "id": "7afb4f1eaa09fc96",
   "metadata": {
    "ExecuteTime": {
     "end_time": "2024-03-01T13:30:19.829259Z",
     "start_time": "2024-03-01T13:30:19.810410Z"
    },
    "collapsed": false,
    "jupyter": {
     "outputs_hidden": false
    }
   },
   "outputs": [
    {
     "name": "stdout",
     "output_type": "stream",
     "text": [
      "4.123105625617661\n"
     ]
    },
    {
     "data": {
      "text/plain": [
       "float"
      ]
     },
     "execution_count": 5,
     "metadata": {},
     "output_type": "execute_result"
    }
   ],
   "source": [
    "import math\n",
    "\n",
    "res = math.sqrt(17)\n",
    "print(res)\n",
    "type(math.sqrt(17))\n"
   ]
  },
  {
   "cell_type": "markdown",
   "id": "5b29a706207002c0",
   "metadata": {
    "collapsed": false,
    "jupyter": {
     "outputs_hidden": false
    }
   },
   "source": [
    "The math.sqrt() function calculates the square root of a number.\n",
    "The resulting value is a float, which is why its type is <class 'float'>."
   ]
  },
  {
   "cell_type": "markdown",
   "id": "af14693cc657931b",
   "metadata": {
    "collapsed": false,
    "jupyter": {
     "outputs_hidden": false
    }
   },
   "source": [
    "## 2. What error do you get when you run print(81 + 'Forty-two')? Can you explain the name of the error?"
   ]
  },
  {
   "cell_type": "code",
   "execution_count": 7,
   "id": "25e175524ad82c35",
   "metadata": {
    "ExecuteTime": {
     "end_time": "2024-03-01T13:30:19.844635Z",
     "start_time": "2024-03-01T13:30:19.831738Z"
    },
    "collapsed": false,
    "jupyter": {
     "outputs_hidden": false
    }
   },
   "outputs": [
    {
     "name": "stdout",
     "output_type": "stream",
     "text": [
      "Error: unsupported operand type(s) for +: 'int' and 'str'\n"
     ]
    }
   ],
   "source": [
    "try:\n",
    "    print(81 + 'Forty-two')\n",
    "except TypeError as e:\n",
    "    print(\"Error:\", e)"
   ]
  },
  {
   "cell_type": "markdown",
   "id": "6f4f4f47361f536b",
   "metadata": {
    "collapsed": false,
    "jupyter": {
     "outputs_hidden": false
    }
   },
   "source": [
    "This code attempts to add an integer (81) to a string ('Forty-two').\n",
    "The TypeError is raised because Python doesn't allow addition between different types. (integer. string)"
   ]
  },
  {
   "cell_type": "markdown",
   "id": "d51d70ef1e972406",
   "metadata": {
    "collapsed": false,
    "jupyter": {
     "outputs_hidden": false
    }
   },
   "source": [
    "## 3. What is the result of the calculation 2 ** 3 / 2 + 8? What is the type? Why?"
   ]
  },
  {
   "cell_type": "code",
   "execution_count": 12,
   "id": "180c4b869987222d",
   "metadata": {
    "ExecuteTime": {
     "end_time": "2024-03-01T13:30:19.860010Z",
     "start_time": "2024-03-01T13:30:19.846122Z"
    },
    "collapsed": false,
    "jupyter": {
     "outputs_hidden": false
    }
   },
   "outputs": [
    {
     "name": "stdout",
     "output_type": "stream",
     "text": [
      "12.0\n"
     ]
    },
    {
     "data": {
      "text/plain": [
       "float"
      ]
     },
     "execution_count": 12,
     "metadata": {},
     "output_type": "execute_result"
    }
   ],
   "source": [
    "print(2 ** 3 / 2 + 8)\n",
    "type(2 ** 3 / 2 + 8)"
   ]
  },
  {
   "cell_type": "markdown",
   "id": "1814be001d4c5d17",
   "metadata": {
    "collapsed": false,
    "jupyter": {
     "outputs_hidden": false
    }
   },
   "source": [
    "The expression follows the standard order of operations.\n",
    "The result is a float because the result of a division returns always a type float. When adding a float and an integer it returns a float."
   ]
  },
  {
   "cell_type": "markdown",
   "id": "69fa383905fc0d0b",
   "metadata": {
    "collapsed": false,
    "jupyter": {
     "outputs_hidden": false
    }
   },
   "source": [
    "## 4. Write a third line that uses a format string and the variables x and y to print '81 plus 23 equals 104'"
   ]
  },
  {
   "cell_type": "code",
   "execution_count": 16,
   "id": "959db458fb740a9f",
   "metadata": {
    "ExecuteTime": {
     "end_time": "2024-03-01T13:30:19.875386Z",
     "start_time": "2024-03-01T13:30:19.861498Z"
    },
    "collapsed": false,
    "jupyter": {
     "outputs_hidden": false
    }
   },
   "outputs": [
    {
     "name": "stdout",
     "output_type": "stream",
     "text": [
      "81 plus 23 equals 104\n"
     ]
    }
   ],
   "source": [
    "x = 81\n",
    "y = 23\n",
    "print(f\"{x} plus {y} equals {x + y}\")"
   ]
  },
  {
   "cell_type": "markdown",
   "id": "1f5d47477bfb10b2",
   "metadata": {
    "collapsed": false,
    "jupyter": {
     "outputs_hidden": false
    }
   },
   "source": [
    "The f-string format allows easy insertion of variables into strings.\n",
    "It substitutes the values of x and y into the string for printing."
   ]
  },
  {
   "cell_type": "markdown",
   "id": "f51e36a0bd8c4204",
   "metadata": {
    "collapsed": false,
    "jupyter": {
     "outputs_hidden": false
    }
   },
   "source": [
    "## 5. Write a fourth line that uses a format string and the variables x and y to print '81 divided by 23 equals 3 with a remainder of 12'"
   ]
  },
  {
   "cell_type": "code",
   "execution_count": 23,
   "id": "697519c7edc79bb",
   "metadata": {
    "ExecuteTime": {
     "end_time": "2024-03-01T13:30:19.890794Z",
     "start_time": "2024-03-01T13:30:19.877370Z"
    },
    "collapsed": false,
    "jupyter": {
     "outputs_hidden": false
    }
   },
   "outputs": [
    {
     "name": "stdout",
     "output_type": "stream",
     "text": [
      "81 divided by 23 equals 3 with a remainder of 12\n"
     ]
    }
   ],
   "source": [
    "print(f\"{x} divided by {y} equals {x // y} with a remainder of {x % y}\")"
   ]
  },
  {
   "cell_type": "markdown",
   "id": "e3f57be23ac8c6e8",
   "metadata": {
    "collapsed": false,
    "jupyter": {
     "outputs_hidden": false
    }
   },
   "source": [
    "The format string incorporates placeholders for variables x and y, performs integer division (x // y) to calculate the quotient, and uses the modulus operator (x % y) to determine the remainder."
   ]
  },
  {
   "cell_type": "markdown",
   "id": "efbf998c05e5b0ad",
   "metadata": {
    "collapsed": false,
    "jupyter": {
     "outputs_hidden": false
    }
   },
   "source": [
    "## 6. Are dictionaries mutable or not?\n",
    "Dictionaries in Python are mutable, which means that their contents can be modified after they are created. This allows for the addition, removal, and modification of key-value pairs within the dictionary."
   ]
  },
  {
   "cell_type": "markdown",
   "id": "212acdd61437fb62",
   "metadata": {
    "collapsed": false,
    "jupyter": {
     "outputs_hidden": false
    }
   },
   "source": [
    "## 7. Given my_dictionary as given above, write code that takes the second description, and prints the individual words of the description in reverse order."
   ]
  },
  {
   "cell_type": "code",
   "execution_count": 29,
   "id": "682ba0b20185b1e3",
   "metadata": {
    "ExecuteTime": {
     "end_time": "2024-03-01T13:30:19.906162Z",
     "start_time": "2024-03-01T13:30:19.892250Z"
    },
    "collapsed": false,
    "jupyter": {
     "outputs_hidden": false
    }
   },
   "outputs": [
    {
     "name": "stdout",
     "output_type": "stream",
     "text": [
      "['a', 'black-striped', 'nocturnal', 'African', 'mammal', 'that', 'feeds', 'mainly', 'on', 'termites']\n",
      "termites on mainly feeds that mammal African nocturnal black-striped a.\n"
     ]
    }
   ],
   "source": [
    "my_dictionary = {\n",
    "    'aardvark': 'a nocturnal badger-sized burrowing mammal of Africa, with long ears, a tubular snout, and a long extensible tongue, feeding on ants and termites.',\n",
    "    'aardwolf': 'a black-striped nocturnal African mammal that feeds mainly on termites.',\n",
    "    'abaca': 'a large herbaceous Asian plant of the banana family, yielding Manila hemp.',\n",
    "}\n",
    "\n",
    "description = my_dictionary['aardwolf']\n",
    "words = description.rstrip('.').split()  # Remove dot at the end of the sentence and split sentence in words\n",
    "print(words)\n",
    "print(\" \".join(reversed(words))+ \".\")"
   ]
  },
  {
   "cell_type": "markdown",
   "id": "b4aff7c51b55efcf",
   "metadata": {
    "collapsed": false,
    "jupyter": {
     "outputs_hidden": false
    }
   },
   "source": [
    "## 8. Write code that computes the sum of an arbitrary list of numbers, for example the list l = [1, 2, 3.0]"
   ]
  },
  {
   "cell_type": "code",
   "execution_count": 32,
   "id": "fa4b552153572180",
   "metadata": {
    "ExecuteTime": {
     "end_time": "2024-03-01T13:30:20.029174Z",
     "start_time": "2024-03-01T13:30:20.024682Z"
    },
    "collapsed": false,
    "jupyter": {
     "outputs_hidden": false
    }
   },
   "outputs": [
    {
     "data": {
      "text/plain": [
       "6.0"
      ]
     },
     "execution_count": 32,
     "metadata": {},
     "output_type": "execute_result"
    }
   ],
   "source": [
    "l = [1, 2, 3.0]\n",
    "sum(l)  "
   ]
  },
  {
   "cell_type": "markdown",
   "id": "14456fb98020ae36",
   "metadata": {
    "collapsed": false,
    "jupyter": {
     "outputs_hidden": false
    }
   },
   "source": [
    "## 9. Compute the factorial of 15 using a for loop"
   ]
  },
  {
   "cell_type": "code",
   "execution_count": 33,
   "id": "a1edb33f58e9bf6b",
   "metadata": {
    "ExecuteTime": {
     "end_time": "2024-03-01T13:30:20.136987Z",
     "start_time": "2024-03-01T13:30:20.129051Z"
    },
    "collapsed": false,
    "jupyter": {
     "outputs_hidden": false
    }
   },
   "outputs": [
    {
     "data": {
      "text/plain": [
       "1307674368000"
      ]
     },
     "execution_count": 33,
     "metadata": {},
     "output_type": "execute_result"
    }
   ],
   "source": [
    "factorial = 1\n",
    "for i in range(1, 16):  # Iterates through numbers from 1 to 15 and multiplies them together to find the factorial.\n",
    "    factorial *= i\n",
    "factorial"
   ]
  },
  {
   "cell_type": "markdown",
   "id": "6cc708704a9cca77",
   "metadata": {
    "collapsed": false,
    "jupyter": {
     "outputs_hidden": false
    }
   },
   "source": [
    "## 10. Print numbers divisible by 3, 5, or 7 in the range 0 to 100"
   ]
  },
  {
   "cell_type": "code",
   "execution_count": 35,
   "id": "2f1d4339a4963e4f",
   "metadata": {
    "ExecuteTime": {
     "end_time": "2024-03-01T13:30:20.167741Z",
     "start_time": "2024-03-01T13:30:20.159803Z"
    },
    "collapsed": false,
    "jupyter": {
     "outputs_hidden": false
    }
   },
   "outputs": [
    {
     "name": "stdout",
     "output_type": "stream",
     "text": [
      "0\n",
      "3\n",
      "5\n",
      "6\n",
      "7\n",
      "9\n",
      "10\n",
      "12\n",
      "14\n",
      "15\n",
      "18\n",
      "20\n",
      "21\n",
      "24\n",
      "25\n",
      "27\n",
      "28\n",
      "30\n",
      "33\n",
      "35\n",
      "36\n",
      "39\n",
      "40\n",
      "42\n",
      "45\n",
      "48\n",
      "49\n",
      "50\n",
      "51\n",
      "54\n",
      "55\n",
      "56\n",
      "57\n",
      "60\n",
      "63\n",
      "65\n",
      "66\n",
      "69\n",
      "70\n",
      "72\n",
      "75\n",
      "77\n",
      "78\n",
      "80\n",
      "81\n",
      "84\n",
      "85\n",
      "87\n",
      "90\n",
      "91\n",
      "93\n",
      "95\n",
      "96\n",
      "98\n",
      "99\n",
      "100\n"
     ]
    }
   ],
   "source": [
    "for num in range(101):\n",
    "    if num % 3 == 0 or num % 5 == 0 or num % 7 == 0:\n",
    "        print(num)"
   ]
  },
  {
   "cell_type": "markdown",
   "id": "895e75f0b848cf93",
   "metadata": {
    "collapsed": false,
    "jupyter": {
     "outputs_hidden": false
    }
   },
   "source": [
    "## 11. Check if 12829 is a prime number"
   ]
  },
  {
   "cell_type": "code",
   "execution_count": 10,
   "id": "6d12737d8c06a5a9",
   "metadata": {
    "ExecuteTime": {
     "end_time": "2024-03-01T13:30:20.244625Z",
     "start_time": "2024-03-01T13:30:20.231199Z"
    },
    "collapsed": false,
    "jupyter": {
     "outputs_hidden": false
    }
   },
   "outputs": [
    {
     "name": "stdout",
     "output_type": "stream",
     "text": [
      "True\n"
     ]
    }
   ],
   "source": [
    "def is_prime(n):    # function that takes some input\n",
    "    if n <= 1:\n",
    "        return False    # false since prime numbers are greater than 0\n",
    "    for i in range(2, int(math.sqrt(n)) + 1):\n",
    "        if n % i == 0:\n",
    "            return False\n",
    "    return True\n",
    "\n",
    "print(is_prime(12829))\n",
    "# Explanation: The function checks if the number is divisible by any number other than 1 and itself.\n"
   ]
  },
  {
   "cell_type": "markdown",
   "id": "7e8e0dbff562c498",
   "metadata": {
    "collapsed": false,
    "jupyter": {
     "outputs_hidden": false
    }
   },
   "source": [
    "## 12. Compute the inner product of two lists"
   ]
  },
  {
   "cell_type": "code",
   "execution_count": 38,
   "id": "4d1b67501f0d5d69",
   "metadata": {
    "ExecuteTime": {
     "end_time": "2024-03-01T13:30:20.275344Z",
     "start_time": "2024-03-01T13:30:20.259967Z"
    },
    "collapsed": false,
    "jupyter": {
     "outputs_hidden": false
    }
   },
   "outputs": [
    {
     "name": "stdout",
     "output_type": "stream",
     "text": [
      "20\n"
     ]
    }
   ],
   "source": [
    "def inner_product(list1, list2):\n",
    "    return sum(a * b for a, b in zip(list1, list2)) # zip function pairs corresponding elements which are then multiplied together and then the sum of the new list is returned\n",
    "\n",
    "# Test the function\n",
    "list1 = [1, 2, 3]\n",
    "list2 = [2, 3, 4]\n",
    "print(inner_product(list1, list2))\n"
   ]
  },
  {
   "cell_type": "markdown",
   "id": "3b22f31bece87718",
   "metadata": {
    "collapsed": false,
    "jupyter": {
     "outputs_hidden": false
    }
   },
   "source": [
    "## 13. Return a list containing unique values from the input list"
   ]
  },
  {
   "cell_type": "code",
   "execution_count": 40,
   "id": "f3ec833bd4631ac3",
   "metadata": {
    "ExecuteTime": {
     "end_time": "2024-03-01T13:30:20.321471Z",
     "start_time": "2024-03-01T13:30:20.312047Z"
    },
    "collapsed": false,
    "jupyter": {
     "outputs_hidden": false
    }
   },
   "outputs": [
    {
     "name": "stdout",
     "output_type": "stream",
     "text": [
      "{1: 2, 2: 2, 3: 1, 4: 1, 5: 1}\n",
      "Unique values: [3, 4, 5]\n",
      "List with unique values: [1, 2, 3, 4, 5]\n"
     ]
    }
   ],
   "source": [
    "def unique_values(lst):\n",
    "    count_dict = {}\n",
    "    for item in lst:\n",
    "        count_dict[item] = count_dict.get(item, 0) + 1\n",
    "    \n",
    "    print(count_dict)\n",
    "    unique_values_list = [key for key, value in count_dict.items() if value == 1]\n",
    "    return unique_values_list\n",
    "\n",
    "def make_unique(lst):\n",
    "    return list(set(lst))\n",
    "\n",
    "# Test the functions\n",
    "input_list = [1, 2, 3, 2, 4, 5, 1]\n",
    "\n",
    "# Test the first function\n",
    "unique_values_result = unique_values(input_list)\n",
    "print(\"Unique values:\", unique_values_result)\n",
    "\n",
    "# Test the second function\n",
    "make_unique_result = make_unique(input_list)\n",
    "print(\"List with unique values:\", make_unique_result)\n",
    "\n"
   ]
  },
  {
   "cell_type": "markdown",
   "id": "5a2d50ef6a5927e2",
   "metadata": {
    "collapsed": false,
    "jupyter": {
     "outputs_hidden": false
    }
   },
   "source": [
    "## Exercise 14: Compute the surface area and circumference of a circle"
   ]
  },
  {
   "cell_type": "code",
   "execution_count": 41,
   "id": "ea709012d90308bc",
   "metadata": {
    "ExecuteTime": {
     "end_time": "2024-03-01T13:30:20.352226Z",
     "start_time": "2024-03-01T13:30:20.346271Z"
    },
    "collapsed": false,
    "jupyter": {
     "outputs_hidden": false
    }
   },
   "outputs": [
    {
     "name": "stdout",
     "output_type": "stream",
     "text": [
      "(3.141592653589793, 6.283185307179586)\n"
     ]
    }
   ],
   "source": [
    "def circle_info(radius):\n",
    "    surface_area = math.pi * radius ** 2\n",
    "    circumference = 2 * math.pi * radius\n",
    "    return surface_area, circumference\n",
    "\n",
    "# Test\n",
    "radius = 1\n",
    "print(circle_info(radius))\n"
   ]
  },
  {
   "cell_type": "markdown",
   "id": "e9771ea8265d6a7d",
   "metadata": {
    "collapsed": false,
    "jupyter": {
     "outputs_hidden": false
    }
   },
   "source": [
    "## Exercise 15: Check if any letters from the first string occur in the second string"
   ]
  },
  {
   "cell_type": "code",
   "execution_count": 14,
   "id": "bd046b350ff557d5",
   "metadata": {
    "ExecuteTime": {
     "end_time": "2024-03-01T13:30:20.413727Z",
     "start_time": "2024-03-01T13:30:20.393887Z"
    },
    "collapsed": false,
    "jupyter": {
     "outputs_hidden": false
    }
   },
   "outputs": [
    {
     "name": "stdout",
     "output_type": "stream",
     "text": [
      "True\n",
      "False\n"
     ]
    }
   ],
   "source": [
    "def check_letters(string1, string2):\n",
    "    for char in string1:    # iterate over each char\n",
    "        if char in string2:\n",
    "            return True\n",
    "    return False\n",
    "\n",
    "def second_check(string1, string2):\n",
    "    return any(c in string1 for c in string2)\n",
    "\n",
    "# Test\n",
    "print(check_letters(\"hello\", \"world\"))\n",
    "print(check_letters(\"abc\", \"def\"))\n",
    "second_check(\"hello\", \"world\")\n"
   ]
  },
  {
   "cell_type": "markdown",
   "id": "b5d72e3a4c57aedd",
   "metadata": {
    "collapsed": false,
    "jupyter": {
     "outputs_hidden": false
    }
   },
   "source": [
    "## Exercise 16: Check if a number is prime"
   ]
  },
  {
   "cell_type": "code",
   "execution_count": 15,
   "id": "fc480a586efa7dc9",
   "metadata": {
    "ExecuteTime": {
     "end_time": "2024-03-01T13:30:20.429103Z",
     "start_time": "2024-03-01T13:30:20.422189Z"
    },
    "collapsed": false,
    "jupyter": {
     "outputs_hidden": false
    }
   },
   "outputs": [
    {
     "name": "stdout",
     "output_type": "stream",
     "text": [
      "True\n",
      "False\n"
     ]
    }
   ],
   "source": [
    "def is_prime(num):\n",
    "    if num <= 1:\n",
    "        return False\n",
    "    for i in range(2, int(math.sqrt(num)) + 1):\n",
    "        if num % i == 0:\n",
    "            return False\n",
    "    return True\n",
    "\n",
    "print(is_prime(7))\n",
    "print(is_prime(10))\n"
   ]
  },
  {
   "cell_type": "markdown",
   "id": "eeed67e68949399d",
   "metadata": {
    "collapsed": false,
    "jupyter": {
     "outputs_hidden": false
    }
   },
   "source": [
    "## Exercise 17: Return a list of all primes smaller than N"
   ]
  },
  {
   "cell_type": "code",
   "execution_count": 16,
   "id": "6caa9c2c33c599c3",
   "metadata": {
    "ExecuteTime": {
     "end_time": "2024-03-01T13:30:20.475265Z",
     "start_time": "2024-03-01T13:30:20.469775Z"
    },
    "collapsed": false,
    "jupyter": {
     "outputs_hidden": false
    }
   },
   "outputs": [
    {
     "name": "stdout",
     "output_type": "stream",
     "text": [
      "[2, 3, 5, 7, 11, 13, 17, 19]\n"
     ]
    }
   ],
   "source": [
    "def primes_smaller_than_N(N):\n",
    "    prime_list = []\n",
    "    for num in range(2, N):\n",
    "        if is_prime(num):\n",
    "            prime_list.append(num)\n",
    "    return prime_list\n",
    "\n",
    "# Test\n",
    "print(primes_smaller_than_N(20))\n"
   ]
  },
  {
   "cell_type": "markdown",
   "id": "1f205451f4e5ca8a",
   "metadata": {
    "collapsed": false,
    "jupyter": {
     "outputs_hidden": false
    }
   },
   "source": [
    "## Exercise 18: Define a Point class with x and y attributes"
   ]
  },
  {
   "cell_type": "code",
   "execution_count": 17,
   "id": "7a4345f6298a38b4",
   "metadata": {
    "ExecuteTime": {
     "end_time": "2024-03-01T13:30:20.506013Z",
     "start_time": "2024-03-01T13:30:20.491627Z"
    },
    "collapsed": false,
    "jupyter": {
     "outputs_hidden": false
    }
   },
   "outputs": [
    {
     "name": "stdout",
     "output_type": "stream",
     "text": [
      "1 2\n"
     ]
    }
   ],
   "source": [
    "class Point:\n",
    "    def __init__(self, x, y):\n",
    "        self.x = x\n",
    "        self.y = y\n",
    "\n",
    "#Test\n",
    "point1 = Point(1, 2)\n",
    "print(point1.x, point1.y)"
   ]
  },
  {
   "cell_type": "markdown",
   "id": "33f0a1e376fc32e4",
   "metadata": {
    "collapsed": false,
    "jupyter": {
     "outputs_hidden": false
    }
   },
   "source": [
    "## Exercise 19: Define a Translation class with a transform method"
   ]
  },
  {
   "cell_type": "code",
   "execution_count": 18,
   "id": "179d59d904bce491",
   "metadata": {
    "ExecuteTime": {
     "end_time": "2024-03-01T13:30:20.552139Z",
     "start_time": "2024-03-01T13:30:20.545196Z"
    },
    "collapsed": false,
    "jupyter": {
     "outputs_hidden": false
    }
   },
   "outputs": [],
   "source": [
    "class Translation:\n",
    "    def __init__(self, dx, dy):\n",
    "        self.dx = dx\n",
    "        self.dy = dy\n",
    "    \n",
    "    def transform(self, point):\n",
    "        point.x += self.dx\n",
    "        point.y += self.dy\n"
   ]
  },
  {
   "cell_type": "markdown",
   "id": "9d6c8b5bc7d58114",
   "metadata": {
    "collapsed": false,
    "jupyter": {
     "outputs_hidden": false
    }
   },
   "source": [
    "## Exercise 20: Test the Point and Translation classes"
   ]
  },
  {
   "cell_type": "code",
   "execution_count": 19,
   "id": "b868594c3f18d478",
   "metadata": {
    "ExecuteTime": {
     "end_time": "2024-03-01T13:30:20.582891Z",
     "start_time": "2024-03-01T13:30:20.570988Z"
    },
    "collapsed": false,
    "jupyter": {
     "outputs_hidden": false
    }
   },
   "outputs": [
    {
     "name": "stdout",
     "output_type": "stream",
     "text": [
      "Translated Point: (7, 6)\n"
     ]
    }
   ],
   "source": [
    "point = Point(3, 4) # create point\n",
    "translation = Translation(4, 2) # create translation\n",
    "translation.transform(point)    # apply transformation on point\n",
    "print(f\"Translated Point: ({point.x}, {point.y})\")"
   ]
  }
 ],
 "metadata": {
  "kernelspec": {
   "display_name": "Python 3 (ipykernel)",
   "language": "python",
   "name": "python3"
  },
  "language_info": {
   "codemirror_mode": {
    "name": "ipython",
    "version": 3
   },
   "file_extension": ".py",
   "mimetype": "text/x-python",
   "name": "python",
   "nbconvert_exporter": "python",
   "pygments_lexer": "ipython3",
   "version": "3.9.6"
  }
 },
 "nbformat": 4,
 "nbformat_minor": 5
}
