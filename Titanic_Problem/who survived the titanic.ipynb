{
 "cells": [
  {
   "cell_type": "markdown",
   "metadata": {},
   "source": [
    "* DAMI Assignment *\n",
    "\n",
    "# Who Survived the Titanic Disaster?"
   ]
  },
  {
   "cell_type": "markdown",
   "metadata": {},
   "source": [
    "## 1. Introduction"
   ]
  },
  {
   "cell_type": "markdown",
   "metadata": {},
   "source": [
    "In this Titanic example, we will use decision trees. The main advantage of this model is that humans can easily understand and reproduce the sequence of decisions taken to predict the target class of a new data point.\n",
    "\n",
    "This is very important for tasks such as medical diagnosis or credit approval, where we want to show a reason for the decision rather than just saying this is what the training data suggests (which is, by definition, what every supervised learning method does).\n",
    "\n",
    "The problem we would like to solve is determining whether a Titanic passenger would have survived, given their age, class, and sex.\n",
    "\n",
    "Why age, class and sex features?\n",
    "\n",
    "Answer: Particular features (the name is an extreme case) could result in overfitting (consider a tree that asks if the name is X; she survived). Features for which a small number of instances with each value present a similar problem. They might not be helpful for generalisation. We will use class, age, and sex because we expect them to have possibly influenced the passenger's survival.\n",
    "\n",
    "For this assignment, you need this Jupyter notebook and this dataset Download dataset. Have fun with data mining and building trees!"
   ]
  },
  {
   "cell_type": "markdown",
   "metadata": {},
   "source": [
    "Each instance in the dataset has the following form:\n",
    "\n",
    "     \"1\",\"1st\",1,\"Allen, Miss Elisabeth Walton\",29.0000,\"Southampton\",\"St Louis, MO\",\"B-5\",\"24160 L221\",\"2\",\"female\"\n",
    "     \n",
    "Note that the raw data consists largely of strings. To apply machine learning algo's these strings have to be converted to numerical data first (at least the columns that are of interest)!"
   ]
  },
  {
   "cell_type": "markdown",
   "metadata": {},
   "source": [
    "## 2. Prepare Dataset with Pandas "
   ]
  },
  {
   "cell_type": "markdown",
   "metadata": {},
   "source": [
    "Pandas is a Python module that works with the so-called dataframe concept (rows are observations, columns refer to the features). A dataframe is essentially a two-dimensional labeled data structure where\n",
    "each column represent a feature and each row represents an observation.\n",
    "\n",
    "More details, see: https://www.kaggle.com/c/titanic/details/getting-started-with-python-ii "
   ]
  },
  {
   "cell_type": "markdown",
   "metadata": {},
   "source": [
    "### 2.1. Load Dataset"
   ]
  },
  {
   "cell_type": "markdown",
   "metadata": {},
   "source": [
    "Download the Titanic dataset (csv file) from Canvas, read it with Pandas into a dataframe. Show the first 5 rows."
   ]
  },
  {
   "cell_type": "code",
   "execution_count": 3,
   "metadata": {
    "ExecuteTime": {
     "end_time": "2024-04-10T07:19:32.067853Z",
     "start_time": "2024-04-10T07:19:29.843804Z"
    }
   },
   "outputs": [
    {
     "name": "stdout",
     "output_type": "stream",
     "text": [
      "numpy version: 1.26.4\n",
      "matplotlib version: 2.2.1\n"
     ]
    },
    {
     "data": {
      "text/plain": "   row.names pclass  survived  \\\n0          1    1st         1   \n1          2    1st         0   \n2          3    1st         0   \n3          4    1st         0   \n4          5    1st         1   \n\n                                              name      age     embarked  \\\n0                     Allen, Miss Elisabeth Walton  29.0000  Southampton   \n1                      Allison, Miss Helen Loraine   2.0000  Southampton   \n2              Allison, Mr Hudson Joshua Creighton  30.0000  Southampton   \n3  Allison, Mrs Hudson J.C. (Bessie Waldo Daniels)  25.0000  Southampton   \n4                    Allison, Master Hudson Trevor   0.9167  Southampton   \n\n                         home.dest room      ticket   boat     sex  \n0                     St Louis, MO  B-5  24160 L221      2  female  \n1  Montreal, PQ / Chesterville, ON  C26         NaN    NaN  female  \n2  Montreal, PQ / Chesterville, ON  C26         NaN  (135)    male  \n3  Montreal, PQ / Chesterville, ON  C26         NaN    NaN  female  \n4  Montreal, PQ / Chesterville, ON  C22         NaN     11    male  ",
      "text/html": "<div>\n<style scoped>\n    .dataframe tbody tr th:only-of-type {\n        vertical-align: middle;\n    }\n\n    .dataframe tbody tr th {\n        vertical-align: top;\n    }\n\n    .dataframe thead th {\n        text-align: right;\n    }\n</style>\n<table border=\"1\" class=\"dataframe\">\n  <thead>\n    <tr style=\"text-align: right;\">\n      <th></th>\n      <th>row.names</th>\n      <th>pclass</th>\n      <th>survived</th>\n      <th>name</th>\n      <th>age</th>\n      <th>embarked</th>\n      <th>home.dest</th>\n      <th>room</th>\n      <th>ticket</th>\n      <th>boat</th>\n      <th>sex</th>\n    </tr>\n  </thead>\n  <tbody>\n    <tr>\n      <th>0</th>\n      <td>1</td>\n      <td>1st</td>\n      <td>1</td>\n      <td>Allen, Miss Elisabeth Walton</td>\n      <td>29.0000</td>\n      <td>Southampton</td>\n      <td>St Louis, MO</td>\n      <td>B-5</td>\n      <td>24160 L221</td>\n      <td>2</td>\n      <td>female</td>\n    </tr>\n    <tr>\n      <th>1</th>\n      <td>2</td>\n      <td>1st</td>\n      <td>0</td>\n      <td>Allison, Miss Helen Loraine</td>\n      <td>2.0000</td>\n      <td>Southampton</td>\n      <td>Montreal, PQ / Chesterville, ON</td>\n      <td>C26</td>\n      <td>NaN</td>\n      <td>NaN</td>\n      <td>female</td>\n    </tr>\n    <tr>\n      <th>2</th>\n      <td>3</td>\n      <td>1st</td>\n      <td>0</td>\n      <td>Allison, Mr Hudson Joshua Creighton</td>\n      <td>30.0000</td>\n      <td>Southampton</td>\n      <td>Montreal, PQ / Chesterville, ON</td>\n      <td>C26</td>\n      <td>NaN</td>\n      <td>(135)</td>\n      <td>male</td>\n    </tr>\n    <tr>\n      <th>3</th>\n      <td>4</td>\n      <td>1st</td>\n      <td>0</td>\n      <td>Allison, Mrs Hudson J.C. (Bessie Waldo Daniels)</td>\n      <td>25.0000</td>\n      <td>Southampton</td>\n      <td>Montreal, PQ / Chesterville, ON</td>\n      <td>C26</td>\n      <td>NaN</td>\n      <td>NaN</td>\n      <td>female</td>\n    </tr>\n    <tr>\n      <th>4</th>\n      <td>5</td>\n      <td>1st</td>\n      <td>1</td>\n      <td>Allison, Master Hudson Trevor</td>\n      <td>0.9167</td>\n      <td>Southampton</td>\n      <td>Montreal, PQ / Chesterville, ON</td>\n      <td>C22</td>\n      <td>NaN</td>\n      <td>11</td>\n      <td>male</td>\n    </tr>\n  </tbody>\n</table>\n</div>"
     },
     "execution_count": 3,
     "metadata": {},
     "output_type": "execute_result"
    }
   ],
   "source": [
    "import pandas as pd\n",
    "import numpy as np\n",
    "\n",
    "print('numpy version:', np.__version__)\n",
    "print('matplotlib version:', pd.__version__)\n",
    "\n",
    "## Your code ...\n",
    "\n",
    "# read with pandas into a dataframe\n",
    "df_titanic = pd.read_csv('passengers-titanic.csv')\n",
    "\n",
    "# show the first 5 rows\n",
    "df_titanic.head()"
   ]
  },
  {
   "cell_type": "markdown",
   "metadata": {},
   "source": [
    "Also show the 10 last rows. What is the problem in the last couple of rows?\n"
   ]
  },
  {
   "cell_type": "code",
   "execution_count": 4,
   "metadata": {
    "collapsed": false,
    "ExecuteTime": {
     "end_time": "2024-04-10T07:19:34.251498Z",
     "start_time": "2024-04-10T07:19:34.241074Z"
    }
   },
   "outputs": [
    {
     "data": {
      "text/plain": "      row.names pclass  survived                    name  age embarked  \\\n1303       1304    3rd         0      Yasbeck, Mr Antoni  NaN      NaN   \n1304       1305    3rd         1     Yasbeck, Mrs Antoni  NaN      NaN   \n1305       1306    3rd         0      Youssef, Mr Gerios  NaN      NaN   \n1306       1307    3rd         0     Zabour, Miss Hileni  NaN      NaN   \n1307       1308    3rd         0     Zabour, Miss Tamini  NaN      NaN   \n1308       1309    3rd         0      Zakarian, Mr Artun  NaN      NaN   \n1309       1310    3rd         0  Zakarian, Mr Maprieder  NaN      NaN   \n1310       1311    3rd         0         Zenn, Mr Philip  NaN      NaN   \n1311       1312    3rd         0           Zievens, Rene  NaN      NaN   \n1312       1313    3rd         0          Zimmerman, Leo  NaN      NaN   \n\n     home.dest room ticket boat     sex  \n1303       NaN  NaN    NaN  NaN    male  \n1304       NaN  NaN    NaN  NaN  female  \n1305       NaN  NaN    NaN  NaN    male  \n1306       NaN  NaN    NaN  NaN  female  \n1307       NaN  NaN    NaN  NaN  female  \n1308       NaN  NaN    NaN  NaN    male  \n1309       NaN  NaN    NaN  NaN    male  \n1310       NaN  NaN    NaN  NaN    male  \n1311       NaN  NaN    NaN  NaN  female  \n1312       NaN  NaN    NaN  NaN    male  ",
      "text/html": "<div>\n<style scoped>\n    .dataframe tbody tr th:only-of-type {\n        vertical-align: middle;\n    }\n\n    .dataframe tbody tr th {\n        vertical-align: top;\n    }\n\n    .dataframe thead th {\n        text-align: right;\n    }\n</style>\n<table border=\"1\" class=\"dataframe\">\n  <thead>\n    <tr style=\"text-align: right;\">\n      <th></th>\n      <th>row.names</th>\n      <th>pclass</th>\n      <th>survived</th>\n      <th>name</th>\n      <th>age</th>\n      <th>embarked</th>\n      <th>home.dest</th>\n      <th>room</th>\n      <th>ticket</th>\n      <th>boat</th>\n      <th>sex</th>\n    </tr>\n  </thead>\n  <tbody>\n    <tr>\n      <th>1303</th>\n      <td>1304</td>\n      <td>3rd</td>\n      <td>0</td>\n      <td>Yasbeck, Mr Antoni</td>\n      <td>NaN</td>\n      <td>NaN</td>\n      <td>NaN</td>\n      <td>NaN</td>\n      <td>NaN</td>\n      <td>NaN</td>\n      <td>male</td>\n    </tr>\n    <tr>\n      <th>1304</th>\n      <td>1305</td>\n      <td>3rd</td>\n      <td>1</td>\n      <td>Yasbeck, Mrs Antoni</td>\n      <td>NaN</td>\n      <td>NaN</td>\n      <td>NaN</td>\n      <td>NaN</td>\n      <td>NaN</td>\n      <td>NaN</td>\n      <td>female</td>\n    </tr>\n    <tr>\n      <th>1305</th>\n      <td>1306</td>\n      <td>3rd</td>\n      <td>0</td>\n      <td>Youssef, Mr Gerios</td>\n      <td>NaN</td>\n      <td>NaN</td>\n      <td>NaN</td>\n      <td>NaN</td>\n      <td>NaN</td>\n      <td>NaN</td>\n      <td>male</td>\n    </tr>\n    <tr>\n      <th>1306</th>\n      <td>1307</td>\n      <td>3rd</td>\n      <td>0</td>\n      <td>Zabour, Miss Hileni</td>\n      <td>NaN</td>\n      <td>NaN</td>\n      <td>NaN</td>\n      <td>NaN</td>\n      <td>NaN</td>\n      <td>NaN</td>\n      <td>female</td>\n    </tr>\n    <tr>\n      <th>1307</th>\n      <td>1308</td>\n      <td>3rd</td>\n      <td>0</td>\n      <td>Zabour, Miss Tamini</td>\n      <td>NaN</td>\n      <td>NaN</td>\n      <td>NaN</td>\n      <td>NaN</td>\n      <td>NaN</td>\n      <td>NaN</td>\n      <td>female</td>\n    </tr>\n    <tr>\n      <th>1308</th>\n      <td>1309</td>\n      <td>3rd</td>\n      <td>0</td>\n      <td>Zakarian, Mr Artun</td>\n      <td>NaN</td>\n      <td>NaN</td>\n      <td>NaN</td>\n      <td>NaN</td>\n      <td>NaN</td>\n      <td>NaN</td>\n      <td>male</td>\n    </tr>\n    <tr>\n      <th>1309</th>\n      <td>1310</td>\n      <td>3rd</td>\n      <td>0</td>\n      <td>Zakarian, Mr Maprieder</td>\n      <td>NaN</td>\n      <td>NaN</td>\n      <td>NaN</td>\n      <td>NaN</td>\n      <td>NaN</td>\n      <td>NaN</td>\n      <td>male</td>\n    </tr>\n    <tr>\n      <th>1310</th>\n      <td>1311</td>\n      <td>3rd</td>\n      <td>0</td>\n      <td>Zenn, Mr Philip</td>\n      <td>NaN</td>\n      <td>NaN</td>\n      <td>NaN</td>\n      <td>NaN</td>\n      <td>NaN</td>\n      <td>NaN</td>\n      <td>male</td>\n    </tr>\n    <tr>\n      <th>1311</th>\n      <td>1312</td>\n      <td>3rd</td>\n      <td>0</td>\n      <td>Zievens, Rene</td>\n      <td>NaN</td>\n      <td>NaN</td>\n      <td>NaN</td>\n      <td>NaN</td>\n      <td>NaN</td>\n      <td>NaN</td>\n      <td>female</td>\n    </tr>\n    <tr>\n      <th>1312</th>\n      <td>1313</td>\n      <td>3rd</td>\n      <td>0</td>\n      <td>Zimmerman, Leo</td>\n      <td>NaN</td>\n      <td>NaN</td>\n      <td>NaN</td>\n      <td>NaN</td>\n      <td>NaN</td>\n      <td>NaN</td>\n      <td>male</td>\n    </tr>\n  </tbody>\n</table>\n</div>"
     },
     "execution_count": 4,
     "metadata": {},
     "output_type": "execute_result"
    }
   ],
   "source": [
    "## Your code ...\n",
    "\n",
    "# show 10 last rows\n",
    "df_titanic.tail(10)"
   ]
  },
  {
   "cell_type": "markdown",
   "source": [
    "# problem: ?\n",
    "The table shows several rows from the dataset with missing information. There are lots of \"NaN\" values across multiple columns. This shows that several potentially important fields miss data such as age or cabin number. Missing data will present issues for data analysis and machine learning. ( We need complete datasets) It is important to handle these missing values through filling them or dropping them."
   ],
   "metadata": {
    "collapsed": false
   }
  },
  {
   "cell_type": "markdown",
   "metadata": {},
   "source": [
    "### 2.2. Investigate Dataset"
   ]
  },
  {
   "cell_type": "markdown",
   "metadata": {},
   "source": [
    "How does Pandas interpret the data? The following 3 commands can be used to investigate the data. Describe in your own words what the command does."
   ]
  },
  {
   "cell_type": "markdown",
   "source": [
    "df_titanic.dtypes\n",
    "\n",
    "## Your answer ...\n",
    "This command is used to check the data types of each column within the df_titanic DataFrame. It returns a Series with the column names as the index labels and the data type of each column (e.g., float64, int64, object) as the values. This is crucial for ensuring that data is stored in the correct format for analysis. For instance, you'd expect numerical values like age and fare to be floating-point or integer types, whereas categorical data like embarkation point might be of the 'object' type (often string data in pandas). Knowing the data types helps in deciding how to preprocess the data, such as converting types where necessary or handling missing values appropriately."
   ],
   "metadata": {
    "collapsed": false
   }
  },
  {
   "cell_type": "markdown",
   "source": [
    "df_titanic.info()\n",
    "\n",
    "## Your answer ...\n",
    "The info() method provides a concise summary of the DataFrame. This includes information like the total number of entries, the number of non-null entries per column, the data type of each column, and the memory usage of the DataFrame. This command gives a quick overview of the data's structure, helping to identify columns with missing values that may require imputation. Additionally, by showing the data types, it complements the .dtypes command by providing a more detailed context about the dataset's overall health and readiness for analysis."
   ],
   "metadata": {
    "collapsed": false
   }
  },
  {
   "cell_type": "markdown",
   "source": [
    "df_titanic.describe()\n",
    "\n",
    "## Your answer ...\n",
    "The describe() method generates descriptive statistics that summarize the central tendency, dispersion, and shape of a dataset’s distribution, excluding NaN values. It's applicable to numerical columns by default but can be used on categorical data by setting the include parameter. For numerical data, it provides a count of non-null entries, mean, standard deviation, minimum and maximum values, and the quartiles of the data distribution. This command is invaluable for getting a sense of the data's scale, spotting potential outliers, and understanding the distribution characteristics of each numerical feature. It helps in making informed decisions about scaling, normalization, or whether certain features require transformation before further analysis."
   ],
   "metadata": {
    "collapsed": false
   }
  },
  {
   "cell_type": "code",
   "execution_count": 5,
   "metadata": {
    "ExecuteTime": {
     "end_time": "2024-04-10T07:19:39.971856Z",
     "start_time": "2024-04-10T07:19:39.953473Z"
    }
   },
   "outputs": [
    {
     "name": "stdout",
     "output_type": "stream",
     "text": [
      "0    29.0000\n",
      "1     2.0000\n",
      "2    30.0000\n",
      "3    25.0000\n",
      "4     0.9167\n",
      "5    47.0000\n",
      "6    63.0000\n",
      "7    39.0000\n",
      "8    58.0000\n",
      "9    71.0000\n",
      "Name: age, dtype: float64\n"
     ]
    }
   ],
   "source": [
    "# Slice and print the first 10 rows of the 'age' column. \n",
    "\n",
    "## Your code ...\n",
    "print(df_titanic['age'].head(10))"
   ]
  },
  {
   "cell_type": "markdown",
   "source": [
    "# What kind of object is this 'age' column?   \n",
    "The 'age' column is recognized as a pandas Series object containing floating-point numbers. In pandas, a Series is essentially a one-dimensional array that pairs values with their indexes, making it different from both a numpy array and a DataFrame. While a DataFrame is a table with rows and columns, a Series represents a single column within that table.\n",
    "\n",
    "# Note: Single column is neither an numpy array, nor a pandas dataframe but rather a pandas-specific object called data Series."
   ],
   "metadata": {
    "collapsed": false
   }
  },
  {
   "cell_type": "code",
   "execution_count": 6,
   "metadata": {
    "ExecuteTime": {
     "end_time": "2024-04-10T07:19:40.740597Z",
     "start_time": "2024-04-10T07:19:40.734645Z"
    }
   },
   "outputs": [
    {
     "name": "stdout",
     "output_type": "stream",
     "text": [
      "The average age of all passengers is: 31.19418104265403\n"
     ]
    }
   ],
   "source": [
    "# What is the average age over all passengers?\n",
    "\n",
    "## Your code ...\n",
    "average_age = df_titanic['age'].mean()\n",
    "print(f\"The average age of all passengers is: {average_age}\")"
   ]
  },
  {
   "cell_type": "code",
   "execution_count": 7,
   "metadata": {
    "ExecuteTime": {
     "end_time": "2024-04-10T07:19:42.769883Z",
     "start_time": "2024-04-10T07:19:42.752001Z"
    }
   },
   "outputs": [
    {
     "name": "stdout",
     "output_type": "stream",
     "text": [
      "         sex pclass      age\n",
      "0     female    1st  29.0000\n",
      "1     female    1st   2.0000\n",
      "2       male    1st  30.0000\n",
      "3     female    1st  25.0000\n",
      "4       male    1st   0.9167\n",
      "...      ...    ...      ...\n",
      "1308    male    3rd      NaN\n",
      "1309    male    3rd      NaN\n",
      "1310    male    3rd      NaN\n",
      "1311  female    3rd      NaN\n",
      "1312    male    3rd      NaN\n",
      "\n",
      "[1313 rows x 3 columns]\n"
     ]
    }
   ],
   "source": [
    "# The next thing we'd like to do is look at more specific subsets of the dataframe. Slice the columns 'sex', 'pclass', \n",
    "# and 'age'.\n",
    "\n",
    "## Your code ...\n",
    "subset_df_titanic = df_titanic[['sex', 'pclass', 'age']]\n",
    "print(subset_df_titanic)"
   ]
  },
  {
   "cell_type": "code",
   "execution_count": 8,
   "metadata": {
    "ExecuteTime": {
     "end_time": "2024-04-10T07:19:43.616901Z",
     "start_time": "2024-04-10T07:19:43.603478Z"
    }
   },
   "outputs": [
    {
     "data": {
      "text/plain": "         sex pclass  age\n12    female    1st  NaN\n13      male    1st  NaN\n14      male    1st  NaN\n29      male    1st  NaN\n32      male    1st  NaN\n...      ...    ...  ...\n1308    male    3rd  NaN\n1309    male    3rd  NaN\n1310    male    3rd  NaN\n1311  female    3rd  NaN\n1312    male    3rd  NaN\n\n[680 rows x 3 columns]",
      "text/html": "<div>\n<style scoped>\n    .dataframe tbody tr th:only-of-type {\n        vertical-align: middle;\n    }\n\n    .dataframe tbody tr th {\n        vertical-align: top;\n    }\n\n    .dataframe thead th {\n        text-align: right;\n    }\n</style>\n<table border=\"1\" class=\"dataframe\">\n  <thead>\n    <tr style=\"text-align: right;\">\n      <th></th>\n      <th>sex</th>\n      <th>pclass</th>\n      <th>age</th>\n    </tr>\n  </thead>\n  <tbody>\n    <tr>\n      <th>12</th>\n      <td>female</td>\n      <td>1st</td>\n      <td>NaN</td>\n    </tr>\n    <tr>\n      <th>13</th>\n      <td>male</td>\n      <td>1st</td>\n      <td>NaN</td>\n    </tr>\n    <tr>\n      <th>14</th>\n      <td>male</td>\n      <td>1st</td>\n      <td>NaN</td>\n    </tr>\n    <tr>\n      <th>29</th>\n      <td>male</td>\n      <td>1st</td>\n      <td>NaN</td>\n    </tr>\n    <tr>\n      <th>32</th>\n      <td>male</td>\n      <td>1st</td>\n      <td>NaN</td>\n    </tr>\n    <tr>\n      <th>...</th>\n      <td>...</td>\n      <td>...</td>\n      <td>...</td>\n    </tr>\n    <tr>\n      <th>1308</th>\n      <td>male</td>\n      <td>3rd</td>\n      <td>NaN</td>\n    </tr>\n    <tr>\n      <th>1309</th>\n      <td>male</td>\n      <td>3rd</td>\n      <td>NaN</td>\n    </tr>\n    <tr>\n      <th>1310</th>\n      <td>male</td>\n      <td>3rd</td>\n      <td>NaN</td>\n    </tr>\n    <tr>\n      <th>1311</th>\n      <td>female</td>\n      <td>3rd</td>\n      <td>NaN</td>\n    </tr>\n    <tr>\n      <th>1312</th>\n      <td>male</td>\n      <td>3rd</td>\n      <td>NaN</td>\n    </tr>\n  </tbody>\n</table>\n<p>680 rows × 3 columns</p>\n</div>"
     },
     "execution_count": 8,
     "metadata": {},
     "output_type": "execute_result"
    }
   ],
   "source": [
    "# First look at all of the missing 'age' values, because we will need to address them in our model if we hope to use \n",
    "# all the data for more advanced algorithms. To filter for missing values you can use:\n",
    "df_titanic[df_titanic['age'].isnull()][['sex', 'pclass', 'age']]"
   ]
  },
  {
   "cell_type": "code",
   "execution_count": 10,
   "metadata": {
    "ExecuteTime": {
     "end_time": "2024-04-10T07:19:54.103764Z",
     "start_time": "2024-04-10T07:19:53.965380Z"
    }
   },
   "outputs": [
    {
     "data": {
      "text/plain": "<Axes: >"
     },
     "execution_count": 10,
     "metadata": {},
     "output_type": "execute_result"
    },
    {
     "data": {
      "text/plain": "<Figure size 640x480 with 1 Axes>",
      "image/png": "[encoded data removed]"
     },
     "metadata": {},
     "output_type": "display_data"
    }
   ],
   "source": [
    "# Before we finish the initial investigation, let's use one other convenience function of pandas to derive a \n",
    "# histogram of any numerical column. \n",
    "import matplotlib as pyl\n",
    "df_titanic['age'].hist()"
   ]
  },
  {
   "cell_type": "code",
   "execution_count": 11,
   "metadata": {
    "ExecuteTime": {
     "end_time": "2024-04-10T07:19:58.683152Z",
     "start_time": "2024-04-10T07:19:58.547249Z"
    }
   },
   "outputs": [
    {
     "data": {
      "text/plain": "<Axes: >"
     },
     "execution_count": 11,
     "metadata": {},
     "output_type": "execute_result"
    },
    {
     "data": {
      "text/plain": "<Figure size 640x480 with 1 Axes>",
      "image/png": "[encoded data removed]"
     },
     "metadata": {},
     "output_type": "display_data"
    }
   ],
   "source": [
    "# Inside the parentheses of .hist(), you can also be more explicit about options of this function. Before you invoke \n",
    "# it, you can also be explicit that you are dropping the missing values of age:\n",
    "df_titanic['age'].dropna().hist(bins=16, range=(0,80), alpha = .5)"
   ]
  },
  {
   "cell_type": "markdown",
   "metadata": {},
   "source": [
    "## 3. Data Munging"
   ]
  },
  {
   "cell_type": "markdown",
   "metadata": {},
   "source": [
    "### 3.1. Transform the Data "
   ]
  },
  {
   "cell_type": "markdown",
   "metadata": {},
   "source": [
    "Transform the values in the dataframe into the shape we need for machine learning. \n",
    "\n",
    "First of all, it's hard to run analysis on the string values of \"male\" and \"female\". \n",
    "Let's store this transformation into a new column 'Sex'. We have a precedent of analyzing the women first, so let's decide female = 0 and male = 1.  "
   ]
  },
  {
   "cell_type": "code",
   "execution_count": 13,
   "metadata": {
    "ExecuteTime": {
     "end_time": "2024-04-10T07:21:17.756341Z",
     "start_time": "2024-04-10T07:21:17.744842Z"
    }
   },
   "outputs": [
    {
     "name": "stdout",
     "output_type": "stream",
     "text": [
      "      sex  Sex\n",
      "0  female    0\n",
      "1  female    0\n",
      "2    male    1\n"
     ]
    }
   ],
   "source": [
    "# Let's store our transformation in a new column, so the original sex isn't changed. Show the first 3 instances.\n",
    "\n",
    "## Your code ...\n",
    "df_titanic['Sex'] = df_titanic['sex'].map({'female': 0, 'male': 1})\n",
    "print(df_titanic[['sex', 'Sex']].head(3))"
   ]
  },
  {
   "cell_type": "code",
   "execution_count": 14,
   "metadata": {
    "ExecuteTime": {
     "end_time": "2024-04-10T07:21:31.815625Z",
     "start_time": "2024-04-10T07:21:31.801905Z"
    }
   },
   "outputs": [
    {
     "name": "stdout",
     "output_type": "stream",
     "text": [
      "  pclass  PClass\n",
      "0    1st       1\n",
      "1    1st       1\n",
      "2    1st       1\n"
     ]
    }
   ],
   "source": [
    "# Do the same for passenger class, make it numeric, in a new column PClass. Show the first 3 instances.\n",
    "\n",
    "## Your code ...\n",
    "df_titanic['PClass'] = df_titanic['pclass'].map({'1st': 1, '2nd': 2, '3rd': 3})\n",
    "print(df_titanic[['pclass', 'PClass']].head(3))"
   ]
  },
  {
   "cell_type": "code",
   "execution_count": 15,
   "metadata": {
    "ExecuteTime": {
     "end_time": "2024-04-10T07:21:43.791649Z",
     "start_time": "2024-04-10T07:21:43.777761Z"
    }
   },
   "outputs": [
    {
     "name": "stdout",
     "output_type": "stream",
     "text": [
      "     row.names pclass  survived                           name   age  \\\n",
      "322        323    2nd         0             Abelson, Mr Samuel  30.0   \n",
      "324        325    2nd         0        Andrew, Mr Edgar Samuel  18.0   \n",
      "325        326    2nd         0               Andrew, Mr Frank   NaN   \n",
      "326        327    2nd         0           Angle, Mr William A.  34.0   \n",
      "328        329    2nd         0                 Ashby, Mr John  57.0   \n",
      "..         ...    ...       ...                            ...   ...   \n",
      "593        594    2nd         1           Wilhelms, Mr Charles  32.0   \n",
      "595        596    2nd         1    Williams, Mr Charles Eugene   NaN   \n",
      "598        599    2nd         0  Aldworth, Mr Charles Augustus  30.0   \n",
      "600        601    2nd         0                Pernot, Mr Rene   NaN   \n",
      "601        602    2nd         0               Swane, Mr George  18.0   \n",
      "\n",
      "        embarked                                 home.dest  room      ticket  \\\n",
      "322    Cherbourg                       Russia New York, NY   NaN         NaN   \n",
      "324  Southampton  Buenos Aires, Argentina / New Jersey, NJ   NaN         NaN   \n",
      "325  Southampton            Cornwall, England Houghton, MI   NaN         NaN   \n",
      "326  Southampton                          Warwick, England   NaN         NaN   \n",
      "328  Southampton                          West Hoboken, NJ   NaN         NaN   \n",
      "..           ...                                       ...   ...         ...   \n",
      "593  Southampton                           London, England   NaN         NaN   \n",
      "595  Southampton                           Harrow, England   NaN         NaN   \n",
      "598  Southampton                        Bryn Mawr, PA, USA   NaN  248744 L13   \n",
      "600    Cherbourg                                       NaN  2131      L15 1s   \n",
      "601  Southampton                                       NaN   F-?         NaN   \n",
      "\n",
      "      boat   sex  Sex  PClass  \n",
      "322    NaN  male    1       2  \n",
      "324    NaN  male    1       2  \n",
      "325    NaN  male    1       2  \n",
      "326    NaN  male    1       2  \n",
      "328    NaN  male    1       2  \n",
      "..     ...   ...  ...     ...  \n",
      "593      9  male    1       2  \n",
      "595     14  male    1       2  \n",
      "598    NaN  male    1       2  \n",
      "600    NaN  male    1       2  \n",
      "601  (294)  male    1       2  \n",
      "\n",
      "[173 rows x 13 columns]\n"
     ]
    }
   ],
   "source": [
    "# Show all males in the second class\n",
    "\n",
    "## Your code ...\n",
    "males_in_second_class = df_titanic[(df_titanic['Sex'] == 1) & (df_titanic['PClass'] == 2)]\n",
    "print(males_in_second_class)"
   ]
  },
  {
   "cell_type": "markdown",
   "metadata": {},
   "source": [
    "### 3.2. Deal with Missing Values"
   ]
  },
  {
   "cell_type": "markdown",
   "metadata": {},
   "source": [
    "Now it's time to deal with the missing values of age! Why? Simply because most machine learning will need a complete set of \n",
    "values in that column to use it. By filling it in with guesses, we'll be introducing some noise into a model, but if we can \n",
    "keep our guesses reasonable, some of them should be close to the historical truth (whatever it was...), and the overall \n",
    "predictive power of age might still make a better model than before. "
   ]
  },
  {
   "cell_type": "markdown",
   "metadata": {},
   "source": [
    "We know the average age of all passengers (with valid age field) is 31.2 - we could fill in the null values with that mean value. But may be the median would be better? (to reduce the influence of a few rare 70- and 80-year olds?) The age histogram did seem positively skewed. These are the kind of decisions you make as you create your models."
   ]
  },
  {
   "cell_type": "code",
   "execution_count": 16,
   "metadata": {
    "ExecuteTime": {
     "end_time": "2024-04-10T07:22:18.284015Z",
     "start_time": "2024-04-10T07:22:18.155673Z"
    }
   },
   "outputs": [
    {
     "name": "stdout",
     "output_type": "stream",
     "text": [
      "    Sex  PClass  age    AgeFill\n",
      "12    0       1  NaN  37.772277\n",
      "13    1       1  NaN  41.199334\n",
      "14    1       1  NaN  41.199334\n",
      "29    1       1  NaN  41.199334\n",
      "32    1       1  NaN  41.199334\n"
     ]
    }
   ],
   "source": [
    "# Replace the NaN (unknown) age values with a reasonable estimate. Do this in a new column 'AgeFill'\n",
    "\n",
    "# Optionally, if you like a bit more programming try this one ...\n",
    "# Use the mean age that was typical for males and females in each passenger class \n",
    "\n",
    "## Your code ...\n",
    "mean_ages = df_titanic.groupby(['Sex', 'PClass'])['age'].mean()\n",
    "\n",
    "# Next, we define a function that will be applied to each row\n",
    "def fill_age(row):\n",
    "    # If age is NaN, return the mean age for the corresponding 'Sex' and 'PClass'\n",
    "    if pd.isnull(row['age']):\n",
    "        return mean_ages[row['Sex'], row['PClass']]\n",
    "    else:\n",
    "        # If age is not NaN, just return the original age\n",
    "        return row['age']\n",
    "\n",
    "# Create the new 'AgeFill' column by applying the function\n",
    "df_titanic['AgeFill'] = df_titanic.apply(fill_age, axis=1)\n",
    "\n",
    "# Verify the transformation by displaying rows where 'age' was NaN\n",
    "print(df_titanic[df_titanic['age'].isnull()][['Sex', 'PClass', 'age', 'AgeFill']].head())"
   ]
  },
  {
   "cell_type": "markdown",
   "metadata": {},
   "source": [
    "### 3.3 Hot Encoding"
   ]
  },
  {
   "cell_type": "markdown",
   "metadata": {},
   "source": [
    "We have a categorical feature attribute: pclass. We already converted its three classes into 1, 2, and 3. This transformation implicitly introduces an ordering. \n",
    "\n",
    "As a final step, we will try a more general approach that does not assume an ordering. This is widely used to convert categorical classes into real-valued attributes. We will introduce an additional encoder and convert the class attributes into three new binary features, each of them indicating if the instance belongs to a feature value (1) or (0). This is called one hot encoding, and it is a very common way of managing categorical attributes for real-based methods."
   ]
  },
  {
   "cell_type": "code",
   "execution_count": 17,
   "metadata": {
    "ExecuteTime": {
     "end_time": "2024-04-10T07:27:14.352097Z",
     "start_time": "2024-04-10T07:27:14.328289Z"
    }
   },
   "outputs": [
    {
     "data": {
      "text/plain": "   row.names pclass  survived  \\\n0          1    1st         1   \n1          2    1st         0   \n2          3    1st         0   \n3          4    1st         0   \n4          5    1st         1   \n\n                                              name      age     embarked  \\\n0                     Allen, Miss Elisabeth Walton  29.0000  Southampton   \n1                      Allison, Miss Helen Loraine   2.0000  Southampton   \n2              Allison, Mr Hudson Joshua Creighton  30.0000  Southampton   \n3  Allison, Mrs Hudson J.C. (Bessie Waldo Daniels)  25.0000  Southampton   \n4                    Allison, Master Hudson Trevor   0.9167  Southampton   \n\n                         home.dest room      ticket   boat     sex  Sex  \\\n0                     St Louis, MO  B-5  24160 L221      2  female    0   \n1  Montreal, PQ / Chesterville, ON  C26         NaN    NaN  female    0   \n2  Montreal, PQ / Chesterville, ON  C26         NaN  (135)    male    1   \n3  Montreal, PQ / Chesterville, ON  C26         NaN    NaN  female    0   \n4  Montreal, PQ / Chesterville, ON  C22         NaN     11    male    1   \n\n   PClass  AgeFill  FirstClass  SecondClass  ThirdClass  \n0       1  29.0000           1            0           0  \n1       1   2.0000           1            0           0  \n2       1  30.0000           1            0           0  \n3       1  25.0000           1            0           0  \n4       1   0.9167           1            0           0  ",
      "text/html": "<div>\n<style scoped>\n    .dataframe tbody tr th:only-of-type {\n        vertical-align: middle;\n    }\n\n    .dataframe tbody tr th {\n        vertical-align: top;\n    }\n\n    .dataframe thead th {\n        text-align: right;\n    }\n</style>\n<table border=\"1\" class=\"dataframe\">\n  <thead>\n    <tr style=\"text-align: right;\">\n      <th></th>\n      <th>row.names</th>\n      <th>pclass</th>\n      <th>survived</th>\n      <th>name</th>\n      <th>age</th>\n      <th>embarked</th>\n      <th>home.dest</th>\n      <th>room</th>\n      <th>ticket</th>\n      <th>boat</th>\n      <th>sex</th>\n      <th>Sex</th>\n      <th>PClass</th>\n      <th>AgeFill</th>\n      <th>FirstClass</th>\n      <th>SecondClass</th>\n      <th>ThirdClass</th>\n    </tr>\n  </thead>\n  <tbody>\n    <tr>\n      <th>0</th>\n      <td>1</td>\n      <td>1st</td>\n      <td>1</td>\n      <td>Allen, Miss Elisabeth Walton</td>\n      <td>29.0000</td>\n      <td>Southampton</td>\n      <td>St Louis, MO</td>\n      <td>B-5</td>\n      <td>24160 L221</td>\n      <td>2</td>\n      <td>female</td>\n      <td>0</td>\n      <td>1</td>\n      <td>29.0000</td>\n      <td>1</td>\n      <td>0</td>\n      <td>0</td>\n    </tr>\n    <tr>\n      <th>1</th>\n      <td>2</td>\n      <td>1st</td>\n      <td>0</td>\n      <td>Allison, Miss Helen Loraine</td>\n      <td>2.0000</td>\n      <td>Southampton</td>\n      <td>Montreal, PQ / Chesterville, ON</td>\n      <td>C26</td>\n      <td>NaN</td>\n      <td>NaN</td>\n      <td>female</td>\n      <td>0</td>\n      <td>1</td>\n      <td>2.0000</td>\n      <td>1</td>\n      <td>0</td>\n      <td>0</td>\n    </tr>\n    <tr>\n      <th>2</th>\n      <td>3</td>\n      <td>1st</td>\n      <td>0</td>\n      <td>Allison, Mr Hudson Joshua Creighton</td>\n      <td>30.0000</td>\n      <td>Southampton</td>\n      <td>Montreal, PQ / Chesterville, ON</td>\n      <td>C26</td>\n      <td>NaN</td>\n      <td>(135)</td>\n      <td>male</td>\n      <td>1</td>\n      <td>1</td>\n      <td>30.0000</td>\n      <td>1</td>\n      <td>0</td>\n      <td>0</td>\n    </tr>\n    <tr>\n      <th>3</th>\n      <td>4</td>\n      <td>1st</td>\n      <td>0</td>\n      <td>Allison, Mrs Hudson J.C. (Bessie Waldo Daniels)</td>\n      <td>25.0000</td>\n      <td>Southampton</td>\n      <td>Montreal, PQ / Chesterville, ON</td>\n      <td>C26</td>\n      <td>NaN</td>\n      <td>NaN</td>\n      <td>female</td>\n      <td>0</td>\n      <td>1</td>\n      <td>25.0000</td>\n      <td>1</td>\n      <td>0</td>\n      <td>0</td>\n    </tr>\n    <tr>\n      <th>4</th>\n      <td>5</td>\n      <td>1st</td>\n      <td>1</td>\n      <td>Allison, Master Hudson Trevor</td>\n      <td>0.9167</td>\n      <td>Southampton</td>\n      <td>Montreal, PQ / Chesterville, ON</td>\n      <td>C22</td>\n      <td>NaN</td>\n      <td>11</td>\n      <td>male</td>\n      <td>1</td>\n      <td>1</td>\n      <td>0.9167</td>\n      <td>1</td>\n      <td>0</td>\n      <td>0</td>\n    </tr>\n  </tbody>\n</table>\n</div>"
     },
     "execution_count": 17,
     "metadata": {},
     "output_type": "execute_result"
    }
   ],
   "source": [
    "df_titanic['FirstClass'] = df_titanic['pclass'].map( {'1st': 1, '2nd': 0, '3rd': 0} ).astype(int)\n",
    "df_titanic['SecondClass'] = df_titanic['pclass'].map( {'1st': 0, '2nd': 1, '3rd': 0} ).astype(int)\n",
    "df_titanic['ThirdClass'] = df_titanic['pclass'].map( {'1st': 0, '2nd': 0, '3rd': 1} ).astype(int)\n",
    "\n",
    "df_titanic.head(5)"
   ]
  },
  {
   "cell_type": "markdown",
   "metadata": {},
   "source": [
    "## 4. Finalize Dataset for Analysis"
   ]
  },
  {
   "cell_type": "code",
   "execution_count": 18,
   "metadata": {
    "ExecuteTime": {
     "end_time": "2024-04-10T07:28:11.664284Z",
     "start_time": "2024-04-10T07:28:11.652343Z"
    }
   },
   "outputs": [],
   "source": [
    "# Finalize pre-processing by turning this into a numerical feature set (dataframe titanic_X) and a numerical target column \n",
    "# (dataframe titanic_y)\n",
    "\n",
    "## Your code ...\n",
    "titanic_y = df_titanic['survived']\n",
    "titanic_X = df_titanic[['Sex', 'PClass', 'AgeFill']]"
   ]
  },
  {
   "cell_type": "code",
   "execution_count": 19,
   "metadata": {
    "ExecuteTime": {
     "end_time": "2024-04-10T07:28:12.079149Z",
     "start_time": "2024-04-10T07:28:12.065262Z"
    }
   },
   "outputs": [
    {
     "data": {
      "text/plain": "   Sex  PClass  AgeFill\n0    0       1  29.0000\n1    0       1   2.0000\n2    1       1  30.0000\n3    0       1  25.0000\n4    1       1   0.9167\n5    1       1  47.0000\n6    0       1  63.0000\n7    1       1  39.0000\n8    0       1  58.0000\n9    1       1  71.0000",
      "text/html": "<div>\n<style scoped>\n    .dataframe tbody tr th:only-of-type {\n        vertical-align: middle;\n    }\n\n    .dataframe tbody tr th {\n        vertical-align: top;\n    }\n\n    .dataframe thead th {\n        text-align: right;\n    }\n</style>\n<table border=\"1\" class=\"dataframe\">\n  <thead>\n    <tr style=\"text-align: right;\">\n      <th></th>\n      <th>Sex</th>\n      <th>PClass</th>\n      <th>AgeFill</th>\n    </tr>\n  </thead>\n  <tbody>\n    <tr>\n      <th>0</th>\n      <td>0</td>\n      <td>1</td>\n      <td>29.0000</td>\n    </tr>\n    <tr>\n      <th>1</th>\n      <td>0</td>\n      <td>1</td>\n      <td>2.0000</td>\n    </tr>\n    <tr>\n      <th>2</th>\n      <td>1</td>\n      <td>1</td>\n      <td>30.0000</td>\n    </tr>\n    <tr>\n      <th>3</th>\n      <td>0</td>\n      <td>1</td>\n      <td>25.0000</td>\n    </tr>\n    <tr>\n      <th>4</th>\n      <td>1</td>\n      <td>1</td>\n      <td>0.9167</td>\n    </tr>\n    <tr>\n      <th>5</th>\n      <td>1</td>\n      <td>1</td>\n      <td>47.0000</td>\n    </tr>\n    <tr>\n      <th>6</th>\n      <td>0</td>\n      <td>1</td>\n      <td>63.0000</td>\n    </tr>\n    <tr>\n      <th>7</th>\n      <td>1</td>\n      <td>1</td>\n      <td>39.0000</td>\n    </tr>\n    <tr>\n      <th>8</th>\n      <td>0</td>\n      <td>1</td>\n      <td>58.0000</td>\n    </tr>\n    <tr>\n      <th>9</th>\n      <td>1</td>\n      <td>1</td>\n      <td>71.0000</td>\n    </tr>\n  </tbody>\n</table>\n</div>"
     },
     "execution_count": 19,
     "metadata": {},
     "output_type": "execute_result"
    }
   ],
   "source": [
    "titanic_X.head(10)"
   ]
  },
  {
   "cell_type": "code",
   "execution_count": 20,
   "metadata": {
    "ExecuteTime": {
     "end_time": "2024-04-10T07:28:12.755230Z",
     "start_time": "2024-04-10T07:28:12.747294Z"
    }
   },
   "outputs": [
    {
     "data": {
      "text/plain": "0    1\n1    0\n2    0\n3    0\n4    1\n5    1\n6    1\n7    0\n8    1\n9    0\nName: survived, dtype: int64"
     },
     "execution_count": 20,
     "metadata": {},
     "output_type": "execute_result"
    }
   ],
   "source": [
    "titanic_y.head(10)"
   ]
  },
  {
   "cell_type": "markdown",
   "metadata": {},
   "source": [
    "## 5. Analyse Dataset"
   ]
  },
  {
   "cell_type": "markdown",
   "metadata": {},
   "source": [
    "The preprocessing step is usually under-estimated in machine learning methods, but as we can see even in this very simple example, it can take some time to make data look as our methods expect. It is also very important in the overall machine learning process; if we fail in this step (for example, incorrectly encoding attributes, or selecting the wrong features), the following steps will fail, no matter how good the method we use for learning!!\n",
    "\n",
    "We are now ready for the implementation of decision trees in scikit-learn, as this algo expects as input a list of \n",
    "real-valued features, and the decision rules of the model would be of the form: Feature < value. \n",
    "For example, AgeFill < 20.0.\n",
    "\n",
    "Standardization (normalization) is not an issue for decision trees because the relative magnitude of features does not \n",
    "affect the classifier performance; so scaling is not needed."
   ]
  },
  {
   "cell_type": "markdown",
   "metadata": {},
   "source": [
    "### 5.1. Training a Decision Tree Classifier"
   ]
  },
  {
   "cell_type": "code",
   "execution_count": 21,
   "metadata": {
    "ExecuteTime": {
     "end_time": "2024-04-10T07:32:54.971747Z",
     "start_time": "2024-04-10T07:32:54.270288Z"
    }
   },
   "outputs": [
    {
     "name": "stdout",
     "output_type": "stream",
     "text": [
      "Training set size: 1050 samples\n",
      "Testing set size: 263 samples\n"
     ]
    }
   ],
   "source": [
    "# Now to the interesting part; let's build a decision tree from our training data. \n",
    "# As usual, first separate training and testing data, and check the size of both sets.\n",
    "from sklearn.model_selection import train_test_split\n",
    "\n",
    "## Your code ...\n",
    "# Splitting the dataset into training (80%) and testing (20%) sets\n",
    "X_train, X_test, y_train, y_test = train_test_split(titanic_X, titanic_y, test_size=0.2, random_state=42)\n",
    "\n",
    "# Checking the size of both sets\n",
    "print(f\"Training set size: {X_train.shape[0]} samples\")\n",
    "print(f\"Testing set size: {X_test.shape[0]} samples\")"
   ]
  },
  {
   "cell_type": "code",
   "execution_count": 22,
   "metadata": {
    "ExecuteTime": {
     "end_time": "2024-04-10T07:34:57.431426Z",
     "start_time": "2024-04-10T07:34:57.313875Z"
    }
   },
   "outputs": [
    {
     "data": {
      "text/plain": "DecisionTreeClassifier(criterion='entropy', max_depth=5, min_samples_split=20,\n                       random_state=42)",
      "text/html": "<style>#sk-container-id-1 {\n  /* Definition of color scheme common for light and dark mode */\n  --sklearn-color-text: black;\n  --sklearn-color-line: gray;\n  /* Definition of color scheme for unfitted estimators */\n  --sklearn-color-unfitted-level-0: #fff5e6;\n  --sklearn-color-unfitted-level-1: #f6e4d2;\n  --sklearn-color-unfitted-level-2: #ffe0b3;\n  --sklearn-color-unfitted-level-3: chocolate;\n  /* Definition of color scheme for fitted estimators */\n  --sklearn-color-fitted-level-0: #f0f8ff;\n  --sklearn-color-fitted-level-1: #d4ebff;\n  --sklearn-color-fitted-level-2: #b3dbfd;\n  --sklearn-color-fitted-level-3: cornflowerblue;\n\n  /* Specific color for light theme */\n  --sklearn-color-text-on-default-background: var(--sg-text-color, var(--theme-code-foreground, var(--jp-content-font-color1, black)));\n  --sklearn-color-background: var(--sg-background-color, var(--theme-background, var(--jp-layout-color0, white)));\n  --sklearn-color-border-box: var(--sg-text-color, var(--theme-code-foreground, var(--jp-content-font-color1, black)));\n  --sklearn-color-icon: #696969;\n\n  @media (prefers-color-scheme: dark) {\n    /* Redefinition of color scheme for dark theme */\n    --sklearn-color-text-on-default-background: var(--sg-text-color, var(--theme-code-foreground, var(--jp-content-font-color1, white)));\n    --sklearn-color-background: var(--sg-background-color, var(--theme-background, var(--jp-layout-color0, #111)));\n    --sklearn-color-border-box: var(--sg-text-color, var(--theme-code-foreground, var(--jp-content-font-color1, white)));\n    --sklearn-color-icon: #878787;\n  }\n}\n\n#sk-container-id-1 {\n  color: var(--sklearn-color-text);\n}\n\n#sk-container-id-1 pre {\n  padding: 0;\n}\n\n#sk-container-id-1 input.sk-hidden--visually {\n  border: 0;\n  clip: rect(1px 1px 1px 1px);\n  clip: rect(1px, 1px, 1px, 1px);\n  height: 1px;\n  margin: -1px;\n  overflow: hidden;\n  padding: 0;\n  position: absolute;\n  width: 1px;\n}\n\n#sk-container-id-1 div.sk-dashed-wrapped {\n  border: 1px dashed var(--sklearn-color-line);\n  margin: 0 0.4em 0.5em 0.4em;\n  box-sizing: border-box;\n  padding-bottom: 0.4em;\n  background-color: var(--sklearn-color-background);\n}\n\n#sk-container-id-1 div.sk-container {\n  /* jupyter's `normalize.less` sets `[hidden] { display: none; }`\n     but bootstrap.min.css set `[hidden] { display: none !important; }`\n     so we also need the `!important` here to be able to override the\n     default hidden behavior on the sphinx rendered scikit-learn.org.\n     See: https://github.com/scikit-learn/scikit-learn/issues/21755 */\n  display: inline-block !important;\n  position: relative;\n}\n\n#sk-container-id-1 div.sk-text-repr-fallback {\n  display: none;\n}\n\ndiv.sk-parallel-item,\ndiv.sk-serial,\ndiv.sk-item {\n  /* draw centered vertical line to link estimators */\n  background-image: linear-gradient(var(--sklearn-color-text-on-default-background), var(--sklearn-color-text-on-default-background));\n  background-size: 2px 100%;\n  background-repeat: no-repeat;\n  background-position: center center;\n}\n\n/* Parallel-specific style estimator block */\n\n#sk-container-id-1 div.sk-parallel-item::after {\n  content: \"\";\n  width: 100%;\n  border-bottom: 2px solid var(--sklearn-color-text-on-default-background);\n  flex-grow: 1;\n}\n\n#sk-container-id-1 div.sk-parallel {\n  display: flex;\n  align-items: stretch;\n  justify-content: center;\n  background-color: var(--sklearn-color-background);\n  position: relative;\n}\n\n#sk-container-id-1 div.sk-parallel-item {\n  display: flex;\n  flex-direction: column;\n}\n\n#sk-container-id-1 div.sk-parallel-item:first-child::after {\n  align-self: flex-end;\n  width: 50%;\n}\n\n#sk-container-id-1 div.sk-parallel-item:last-child::after {\n  align-self: flex-start;\n  width: 50%;\n}\n\n#sk-container-id-1 div.sk-parallel-item:only-child::after {\n  width: 0;\n}\n\n/* Serial-specific style estimator block */\n\n#sk-container-id-1 div.sk-serial {\n  display: flex;\n  flex-direction: column;\n  align-items: center;\n  background-color: var(--sklearn-color-background);\n  padding-right: 1em;\n  padding-left: 1em;\n}\n\n\n/* Toggleable style: style used for estimator/Pipeline/ColumnTransformer box that is\nclickable and can be expanded/collapsed.\n- Pipeline and ColumnTransformer use this feature and define the default style\n- Estimators will overwrite some part of the style using the `sk-estimator` class\n*/\n\n/* Pipeline and ColumnTransformer style (default) */\n\n#sk-container-id-1 div.sk-toggleable {\n  /* Default theme specific background. It is overwritten whether we have a\n  specific estimator or a Pipeline/ColumnTransformer */\n  background-color: var(--sklearn-color-background);\n}\n\n/* Toggleable label */\n#sk-container-id-1 label.sk-toggleable__label {\n  cursor: pointer;\n  display: block;\n  width: 100%;\n  margin-bottom: 0;\n  padding: 0.5em;\n  box-sizing: border-box;\n  text-align: center;\n}\n\n#sk-container-id-1 label.sk-toggleable__label-arrow:before {\n  /* Arrow on the left of the label */\n  content: \"▸\";\n  float: left;\n  margin-right: 0.25em;\n  color: var(--sklearn-color-icon);\n}\n\n#sk-container-id-1 label.sk-toggleable__label-arrow:hover:before {\n  color: var(--sklearn-color-text);\n}\n\n/* Toggleable content - dropdown */\n\n#sk-container-id-1 div.sk-toggleable__content {\n  max-height: 0;\n  max-width: 0;\n  overflow: hidden;\n  text-align: left;\n  /* unfitted */\n  background-color: var(--sklearn-color-unfitted-level-0);\n}\n\n#sk-container-id-1 div.sk-toggleable__content.fitted {\n  /* fitted */\n  background-color: var(--sklearn-color-fitted-level-0);\n}\n\n#sk-container-id-1 div.sk-toggleable__content pre {\n  margin: 0.2em;\n  border-radius: 0.25em;\n  color: var(--sklearn-color-text);\n  /* unfitted */\n  background-color: var(--sklearn-color-unfitted-level-0);\n}\n\n#sk-container-id-1 div.sk-toggleable__content.fitted pre {\n  /* unfitted */\n  background-color: var(--sklearn-color-fitted-level-0);\n}\n\n#sk-container-id-1 input.sk-toggleable__control:checked~div.sk-toggleable__content {\n  /* Expand drop-down */\n  max-height: 200px;\n  max-width: 100%;\n  overflow: auto;\n}\n\n#sk-container-id-1 input.sk-toggleable__control:checked~label.sk-toggleable__label-arrow:before {\n  content: \"▾\";\n}\n\n/* Pipeline/ColumnTransformer-specific style */\n\n#sk-container-id-1 div.sk-label input.sk-toggleable__control:checked~label.sk-toggleable__label {\n  color: var(--sklearn-color-text);\n  background-color: var(--sklearn-color-unfitted-level-2);\n}\n\n#sk-container-id-1 div.sk-label.fitted input.sk-toggleable__control:checked~label.sk-toggleable__label {\n  background-color: var(--sklearn-color-fitted-level-2);\n}\n\n/* Estimator-specific style */\n\n/* Colorize estimator box */\n#sk-container-id-1 div.sk-estimator input.sk-toggleable__control:checked~label.sk-toggleable__label {\n  /* unfitted */\n  background-color: var(--sklearn-color-unfitted-level-2);\n}\n\n#sk-container-id-1 div.sk-estimator.fitted input.sk-toggleable__control:checked~label.sk-toggleable__label {\n  /* fitted */\n  background-color: var(--sklearn-color-fitted-level-2);\n}\n\n#sk-container-id-1 div.sk-label label.sk-toggleable__label,\n#sk-container-id-1 div.sk-label label {\n  /* The background is the default theme color */\n  color: var(--sklearn-color-text-on-default-background);\n}\n\n/* On hover, darken the color of the background */\n#sk-container-id-1 div.sk-label:hover label.sk-toggleable__label {\n  color: var(--sklearn-color-text);\n  background-color: var(--sklearn-color-unfitted-level-2);\n}\n\n/* Label box, darken color on hover, fitted */\n#sk-container-id-1 div.sk-label.fitted:hover label.sk-toggleable__label.fitted {\n  color: var(--sklearn-color-text);\n  background-color: var(--sklearn-color-fitted-level-2);\n}\n\n/* Estimator label */\n\n#sk-container-id-1 div.sk-label label {\n  font-family: monospace;\n  font-weight: bold;\n  display: inline-block;\n  line-height: 1.2em;\n}\n\n#sk-container-id-1 div.sk-label-container {\n  text-align: center;\n}\n\n/* Estimator-specific */\n#sk-container-id-1 div.sk-estimator {\n  font-family: monospace;\n  border: 1px dotted var(--sklearn-color-border-box);\n  border-radius: 0.25em;\n  box-sizing: border-box;\n  margin-bottom: 0.5em;\n  /* unfitted */\n  background-color: var(--sklearn-color-unfitted-level-0);\n}\n\n#sk-container-id-1 div.sk-estimator.fitted {\n  /* fitted */\n  background-color: var(--sklearn-color-fitted-level-0);\n}\n\n/* on hover */\n#sk-container-id-1 div.sk-estimator:hover {\n  /* unfitted */\n  background-color: var(--sklearn-color-unfitted-level-2);\n}\n\n#sk-container-id-1 div.sk-estimator.fitted:hover {\n  /* fitted */\n  background-color: var(--sklearn-color-fitted-level-2);\n}\n\n/* Specification for estimator info (e.g. \"i\" and \"?\") */\n\n/* Common style for \"i\" and \"?\" */\n\n.sk-estimator-doc-link,\na:link.sk-estimator-doc-link,\na:visited.sk-estimator-doc-link {\n  float: right;\n  font-size: smaller;\n  line-height: 1em;\n  font-family: monospace;\n  background-color: var(--sklearn-color-background);\n  border-radius: 1em;\n  height: 1em;\n  width: 1em;\n  text-decoration: none !important;\n  margin-left: 1ex;\n  /* unfitted */\n  border: var(--sklearn-color-unfitted-level-1) 1pt solid;\n  color: var(--sklearn-color-unfitted-level-1);\n}\n\n.sk-estimator-doc-link.fitted,\na:link.sk-estimator-doc-link.fitted,\na:visited.sk-estimator-doc-link.fitted {\n  /* fitted */\n  border: var(--sklearn-color-fitted-level-1) 1pt solid;\n  color: var(--sklearn-color-fitted-level-1);\n}\n\n/* On hover */\ndiv.sk-estimator:hover .sk-estimator-doc-link:hover,\n.sk-estimator-doc-link:hover,\ndiv.sk-label-container:hover .sk-estimator-doc-link:hover,\n.sk-estimator-doc-link:hover {\n  /* unfitted */\n  background-color: var(--sklearn-color-unfitted-level-3);\n  color: var(--sklearn-color-background);\n  text-decoration: none;\n}\n\ndiv.sk-estimator.fitted:hover .sk-estimator-doc-link.fitted:hover,\n.sk-estimator-doc-link.fitted:hover,\ndiv.sk-label-container:hover .sk-estimator-doc-link.fitted:hover,\n.sk-estimator-doc-link.fitted:hover {\n  /* fitted */\n  background-color: var(--sklearn-color-fitted-level-3);\n  color: var(--sklearn-color-background);\n  text-decoration: none;\n}\n\n/* Span, style for the box shown on hovering the info icon */\n.sk-estimator-doc-link span {\n  display: none;\n  z-index: 9999;\n  position: relative;\n  font-weight: normal;\n  right: .2ex;\n  padding: .5ex;\n  margin: .5ex;\n  width: min-content;\n  min-width: 20ex;\n  max-width: 50ex;\n  color: var(--sklearn-color-text);\n  box-shadow: 2pt 2pt 4pt #999;\n  /* unfitted */\n  background: var(--sklearn-color-unfitted-level-0);\n  border: .5pt solid var(--sklearn-color-unfitted-level-3);\n}\n\n.sk-estimator-doc-link.fitted span {\n  /* fitted */\n  background: var(--sklearn-color-fitted-level-0);\n  border: var(--sklearn-color-fitted-level-3);\n}\n\n.sk-estimator-doc-link:hover span {\n  display: block;\n}\n\n/* \"?\"-specific style due to the `<a>` HTML tag */\n\n#sk-container-id-1 a.estimator_doc_link {\n  float: right;\n  font-size: 1rem;\n  line-height: 1em;\n  font-family: monospace;\n  background-color: var(--sklearn-color-background);\n  border-radius: 1rem;\n  height: 1rem;\n  width: 1rem;\n  text-decoration: none;\n  /* unfitted */\n  color: var(--sklearn-color-unfitted-level-1);\n  border: var(--sklearn-color-unfitted-level-1) 1pt solid;\n}\n\n#sk-container-id-1 a.estimator_doc_link.fitted {\n  /* fitted */\n  border: var(--sklearn-color-fitted-level-1) 1pt solid;\n  color: var(--sklearn-color-fitted-level-1);\n}\n\n/* On hover */\n#sk-container-id-1 a.estimator_doc_link:hover {\n  /* unfitted */\n  background-color: var(--sklearn-color-unfitted-level-3);\n  color: var(--sklearn-color-background);\n  text-decoration: none;\n}\n\n#sk-container-id-1 a.estimator_doc_link.fitted:hover {\n  /* fitted */\n  background-color: var(--sklearn-color-fitted-level-3);\n}\n</style><div id=\"sk-container-id-1\" class=\"sk-top-container\"><div class=\"sk-text-repr-fallback\"><pre>DecisionTreeClassifier(criterion=&#x27;entropy&#x27;, max_depth=5, min_samples_split=20,\n                       random_state=42)</pre><b>In a Jupyter environment, please rerun this cell to show the HTML representation or trust the notebook. <br />On GitHub, the HTML representation is unable to render, please try loading this page with nbviewer.org.</b></div><div class=\"sk-container\" hidden><div class=\"sk-item\"><div class=\"sk-estimator fitted sk-toggleable\"><input class=\"sk-toggleable__control sk-hidden--visually\" id=\"sk-estimator-id-1\" type=\"checkbox\" checked><label for=\"sk-estimator-id-1\" class=\"sk-toggleable__label fitted sk-toggleable__label-arrow fitted\">&nbsp;&nbsp;DecisionTreeClassifier<a class=\"sk-estimator-doc-link fitted\" rel=\"noreferrer\" target=\"_blank\" href=\"https://scikit-learn.org/1.4/modules/generated/sklearn.tree.DecisionTreeClassifier.html\">?<span>Documentation for DecisionTreeClassifier</span></a><span class=\"sk-estimator-doc-link fitted\">i<span>Fitted</span></span></label><div class=\"sk-toggleable__content fitted\"><pre>DecisionTreeClassifier(criterion=&#x27;entropy&#x27;, max_depth=5, min_samples_split=20,\n                       random_state=42)</pre></div> </div></div></div></div>"
     },
     "execution_count": 22,
     "metadata": {},
     "output_type": "execute_result"
    }
   ],
   "source": [
    "# Now, we can create a new DecisionTreeClassifier and use the fit method of the classifier to do the learning job. \n",
    "# Parameter settings: use the entropy citerion and try out different settings for the depth of the tree and the \n",
    "# minimum samples required for a node in the tree graph\n",
    "from sklearn import tree\n",
    "\n",
    "## Your code ...\n",
    "dt_classifier = tree.DecisionTreeClassifier(criterion='entropy', max_depth=5, min_samples_split=20, random_state=42)\n",
    "\n",
    "# Training the classifier with the training set\n",
    "dt_classifier.fit(X_train, y_train)\n"
   ]
  },
  {
   "cell_type": "markdown",
   "metadata": {},
   "source": [
    "### 5.2. Evaluation Metrics Function"
   ]
  },
  {
   "cell_type": "code",
   "execution_count": 25,
   "metadata": {
    "ExecuteTime": {
     "end_time": "2024-04-10T07:40:02.322484Z",
     "start_time": "2024-04-10T07:40:02.300725Z"
    }
   },
   "outputs": [
    {
     "name": "stdout",
     "output_type": "stream",
     "text": [
      "Training Set Metrics:\n",
      "Accuracy: 0.8343\n",
      "Precision: 0.8462\n",
      "Recall: 0.6215\n",
      "F1 Score: 0.7166\n",
      "\n",
      "Testing Set Metrics:\n",
      "Accuracy: 0.8099\n",
      "Precision: 0.8261\n",
      "Recall: 0.6000\n",
      "F1 Score: 0.6951\n"
     ]
    }
   ],
   "source": [
    "# Define a generic helper function to measure the performance of the classifier, and call this function to show \n",
    "# the results (e.g. accuracy)\n",
    "from sklearn import metrics\n",
    "\n",
    "## Your code ...\n",
    "def evaluate_classifier_performance(y_true, y_pred, set_name='Training'):\n",
    "    \"\"\"\n",
    "    Evaluates and prints the classifier's performance metrics.\n",
    "    \n",
    "    Parameters:\n",
    "    - y_true: array-like of true labels.\n",
    "    - y_pred: array-like of predicted labels.\n",
    "    - set_name: a string indicating the name of the set (Training or Testing).\n",
    "    \"\"\"\n",
    "    accuracy = metrics.accuracy_score(y_true, y_pred)\n",
    "    precision = metrics.precision_score(y_true, y_pred)\n",
    "    recall = metrics.recall_score(y_true, y_pred)\n",
    "    f1 = metrics.f1_score(y_true, y_pred)\n",
    "    \n",
    "    print(f\"{set_name} Set Metrics:\")\n",
    "    print(f\"Accuracy: {accuracy:.4f}\")\n",
    "    print(f\"Precision: {precision:.4f}\")\n",
    "    print(f\"Recall: {recall:.4f}\")\n",
    "    print(f\"F1 Score: {f1:.4f}\\n\")\n",
    "\n",
    "# Predictions on the training set\n",
    "y_train_pred = dt_classifier.predict(X_train)\n",
    "\n",
    "# Predictions on the testing set\n",
    "y_test_pred = dt_classifier.predict(X_test)\n",
    "\n",
    "# Evaluate the classifier performance on the Training set\n",
    "evaluate_classifier_performance(y_train, y_train_pred, set_name='Training')\n",
    "\n",
    "# Evaluate the classifier performance on the Testing set\n",
    "evaluate_classifier_performance(y_test, y_test_pred, set_name='Testing')\n"
   ]
  },
  {
   "cell_type": "markdown",
   "metadata": {},
   "source": [
    "## 6. Introducing Random Forest"
   ]
  },
  {
   "cell_type": "markdown",
   "metadata": {},
   "source": [
    "A common criticism to decision trees is that once the training set is divided after\n",
    "answering a question, it is not possible to *reconsider this decision*. For example, if\n",
    "we divide men and women, every subsequent question would be only about men or\n",
    "women, and the method could not consider another type of question (say, age less\n",
    "than a year, irrespective of the gender). Random Forests try to introduce some level\n",
    "of randomization in each step, proposing alternative trees and combining them to\n",
    "get the final prediction. These types of algorithms that consider several classifiers\n",
    "answering the same question are called **ensemble methods**. In the Titanic task, it is\n",
    "probably hard to see this problem because we have very few features, but usually\n",
    "a case has in the order of thousand(s) features."
   ]
  },
  {
   "cell_type": "markdown",
   "metadata": {},
   "source": [
    "Random Forests propose to build several decision trees, each one based on a subset of the training\n",
    "instances (selected randomly), and using a small random number of features. \n",
    "This produces multiple classifiers (multiple decision trees). \n",
    "At prediction time, each grown tree, given an instance, predicts its target class exactly as decision trees do. \n",
    "The class that most of the trees vote (that is the class most predicted by the trees) is the one suggested by the ensemble classifier."
   ]
  },
  {
   "cell_type": "markdown",
   "metadata": {},
   "source": [
    "## 7. Implement Random Forest"
   ]
  },
  {
   "cell_type": "markdown",
   "metadata": {},
   "source": [
    "Implement a Random Forest classifier. Can you improve to above accuracy? Look at the sklearn documentation. Play with the parameters of the ``RandomForestClassifier``. Especially the parameter ``n_estimators`` (the number of trees in the forest) is of interest."
   ]
  },
  {
   "cell_type": "code",
   "execution_count": 28,
   "metadata": {
    "ExecuteTime": {
     "end_time": "2024-04-10T07:41:21.863543Z",
     "start_time": "2024-04-10T07:41:21.710126Z"
    }
   },
   "outputs": [
    {
     "name": "stdout",
     "output_type": "stream",
     "text": [
      "Training Set Metrics:\n",
      "Accuracy: 0.8619\n",
      "Precision: 0.8828\n",
      "Recall: 0.6808\n",
      "F1 Score: 0.7687\n",
      "\n",
      "Testing Set Metrics:\n",
      "Accuracy: 0.8061\n",
      "Precision: 0.7895\n",
      "Recall: 0.6316\n",
      "F1 Score: 0.7018\n"
     ]
    }
   ],
   "source": [
    "# Implement a Random Forest classifier, does this improve the prediction?\n",
    "\n",
    "## Your code ...\n",
    "from sklearn.ensemble import RandomForestClassifier\n",
    "\n",
    "# Initialize the RandomForestClassifier\n",
    "# Start with n_estimators = 100, a common default value\n",
    "rf_classifier = RandomForestClassifier(n_estimators=100, criterion='entropy', random_state=42)\n",
    "\n",
    "# Train the classifier with the training data\n",
    "rf_classifier.fit(X_train, y_train)\n",
    "\n",
    "# Predictions on the training set\n",
    "y_train_pred_rf = rf_classifier.predict(X_train)\n",
    "\n",
    "# Predictions on the testing set\n",
    "y_test_pred_rf = rf_classifier.predict(X_test)\n",
    "\n",
    "# Evaluate the classifier performance on the Training set\n",
    "evaluate_classifier_performance(y_train, y_train_pred_rf, set_name='Training')\n",
    "\n",
    "# Evaluate the classifier performance on the Testing set\n",
    "evaluate_classifier_performance(y_test, y_test_pred_rf, set_name='Testing')"
   ]
  },
  {
   "cell_type": "markdown",
   "source": [
    "The Random Forest model has shown improvements, especially in handling the training data, indicating better learning and generalization capabilities. On the testing set, the slight decrease in accuracy and precision is traded off for improved recall and F1 score"
   ],
   "metadata": {
    "collapsed": false
   }
  },
  {
   "cell_type": "code",
   "outputs": [],
   "source": [],
   "metadata": {
    "collapsed": false
   }
  }
 ],
 "metadata": {
  "kernelspec": {
   "display_name": "Python 3",
   "language": "python",
   "name": "python3"
  },
  "language_info": {
   "codemirror_mode": {
    "name": "ipython",
    "version": 3
   },
   "file_extension": ".py",
   "mimetype": "text/x-python",
   "name": "python",
   "nbconvert_exporter": "python",
   "pygments_lexer": "ipython3",
   "version": "3.7.3"
  }
 },
 "nbformat": 4,
 "nbformat_minor": 1
}
